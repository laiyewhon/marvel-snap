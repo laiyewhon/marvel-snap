{
 "cells": [
  {
   "cell_type": "code",
   "execution_count": 8,
   "id": "dda616a4-c3ff-4ad5-8f5e-7ccfa39474a5",
   "metadata": {},
   "outputs": [],
   "source": [
    "import requests\n",
    "import hashlib\n",
    "import json\n",
    "import copy\n",
    "\n",
    "from kafka import KafkaProducer\n"
   ]
  },
  {
   "cell_type": "code",
   "execution_count": 9,
   "id": "39b44eca-a1c1-400e-809f-ee6ee2ea5a8d",
   "metadata": {},
   "outputs": [],
   "source": [
    "r = requests.get('https://marvelsnapzone.com/getinfo/?searchtype=cards&searchcardstype=true')\n",
    "cards = r.json()['success']['cards']\n"
   ]
  },
  {
   "cell_type": "code",
   "execution_count": 10,
   "id": "7d6f7174-8e02-492d-b4a1-3a4a151612c9",
   "metadata": {
    "tags": []
   },
   "outputs": [],
   "source": [
    "for card in cards:\n",
    "    cid = card['cid']\n",
    "    for tags in card['tags']:\n",
    "        tags.update({ 'cid': cid })\n"
   ]
  },
  {
   "cell_type": "code",
   "execution_count": 11,
   "id": "8b88f025-7fa7-4d04-ade1-3ed50a7426c5",
   "metadata": {
    "tags": []
   },
   "outputs": [],
   "source": [
    "producer = KafkaProducer(\n",
    "    bootstrap_servers='kafka:9093',\n",
    "    value_serializer=lambda v: json.dumps(v).encode('utf-8'))\n"
   ]
  },
  {
   "cell_type": "code",
   "execution_count": 12,
   "id": "8faf9994-e4e5-4e7d-90f8-d908882031c0",
   "metadata": {},
   "outputs": [],
   "source": [
    "for card in cards:\n",
    "    for variant in card['variants']:\n",
    "        producer.send('in-variants', variant)\n"
   ]
  },
  {
   "cell_type": "code",
   "execution_count": 13,
   "id": "3a68e6c6-93fa-476a-9dc9-a194645e81c2",
   "metadata": {},
   "outputs": [],
   "source": [
    "for card in cards:\n",
    "    for tag in card['tags']:\n",
    "        producer.send('in-tags', tag)\n"
   ]
  },
  {
   "cell_type": "code",
   "execution_count": 14,
   "id": "bfe29d05-f321-4dec-9901-3c38862a5102",
   "metadata": {},
   "outputs": [],
   "source": [
    "for card in copy.deepcopy(cards):\n",
    "    if 'variants' in card:\n",
    "        card.pop('variants')\n",
    "    if 'tags' in card:\n",
    "        card.pop('tags')\n",
    "    producer.send('in-cards', card)\n"
   ]
  }
 ],
 "metadata": {
  "kernelspec": {
   "display_name": "Python 3 (ipykernel)",
   "language": "python",
   "name": "python3"
  },
  "language_info": {
   "codemirror_mode": {
    "name": "ipython",
    "version": 3
   },
   "file_extension": ".py",
   "mimetype": "text/x-python",
   "name": "python",
   "nbconvert_exporter": "python",
   "pygments_lexer": "ipython3",
   "version": "3.10.8"
  }
 },
 "nbformat": 4,
 "nbformat_minor": 5
}
